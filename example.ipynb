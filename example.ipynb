{
 "metadata": {
  "language_info": {
   "codemirror_mode": {
    "name": "ipython",
    "version": 3
   },
   "file_extension": ".py",
   "mimetype": "text/x-python",
   "name": "python",
   "nbconvert_exporter": "python",
   "pygments_lexer": "ipython3",
   "version": "3.8.6-final"
  },
  "orig_nbformat": 2,
  "kernelspec": {
   "name": "python3",
   "display_name": "Python 3",
   "language": "python"
  }
 },
 "nbformat": 4,
 "nbformat_minor": 2,
 "cells": [
  {
   "cell_type": "code",
   "execution_count": null,
   "metadata": {},
   "outputs": [],
   "source": [
    "import numpy as np\n",
    "import cupy as cu\n",
    "import xarray as xr\n",
    "import matplotlib.pyplot as plt\n",
    "import matplotlib.colors as colors\n",
    "from matplotlib.animation import FuncAnimation\n",
    "from montey import *"
   ]
  },
  {
   "cell_type": "code",
   "execution_count": null,
   "metadata": {},
   "outputs": [],
   "source": [
    "from IPython.display import set_matplotlib_formats\n",
    "set_matplotlib_formats('retina')\n",
    "plt.rcParams[\"animation.html\"] = \"jshtml\""
   ]
  },
  {
   "cell_type": "code",
   "execution_count": null,
   "metadata": {},
   "outputs": [],
   "source": [
    "def lognorm(arr):\n",
    "    return colors.LogNorm(vmin=float(np.nanmin(np.where(arr > 0, arr, np.nan))), vmax=float(np.max(arr)))"
   ]
  },
  {
   "cell_type": "code",
   "execution_count": null,
   "metadata": {},
   "outputs": [],
   "source": [
    "def time_animate(array, **plot_kwargs):\n",
    "    fig, ax = plt.subplots(figsize=(12, 8), dpi=144)\n",
    "    snorm = lognorm(array)\n",
    "    ntof = len(array.coords[\"time\"])\n",
    "\n",
    "    mat = array.isel(time=0).plot.pcolormesh(ax=ax, norm=snorm, animated=True, **plot_kwargs)\n",
    "    ax.set_title('')\n",
    "\n",
    "    def animate(i):\n",
    "        mat.set_array(array.isel(time=i).values)\n",
    "        return mat,\n",
    "\n",
    "    ani = FuncAnimation(fig, animate, frames=ntof, interval=100, blit=True)\n",
    "    plt.close(fig)\n",
    "    return ani"
   ]
  },
  {
   "cell_type": "code",
   "execution_count": null,
   "metadata": {},
   "outputs": [],
   "source": [
    "# test = np.load(\"test.npz\")\n",
    "# ntof = test[\"photon_counter\"].shape[-1]\n",
    "# dt = 100\n",
    "# test = xr.Dataset(\n",
    "#         {\n",
    "#             \"Photons\": (\n",
    "#                 [\"detector\", \"time\"],\n",
    "#                 test[\"photon_counter\"],\n",
    "#             ),\n",
    "#             \"Phi\": (\n",
    "#                 [\"detector\", \"time\"],\n",
    "#                 test[\"phi_td\"],\n",
    "#                 {\"long_name\": \"Φ\"},\n",
    "#             ),\n",
    "#             \"PhiPhase\": (\n",
    "#                 [\"detector\"],\n",
    "#                 test[\"phi_phase\"],\n",
    "#                 {\"units\": \"rad\", \"long_name\": \"Φ Phase\"},\n",
    "#             ),\n",
    "#             \"PhiDist\": (\n",
    "#                 [\"detector\", \"time\", \"layer\"],\n",
    "#                 test[\"phi_dist\"],\n",
    "#                 {\"long_name\": \"Φ Distribution\"},\n",
    "#             ),\n",
    "#             \"MomDist\": (\n",
    "#                 [\"detector\", \"time\", \"layer\"],\n",
    "#                 test[\"mom_dist\"],\n",
    "#                 {\"long_name\": \"Φ-Weighted Momentum Transfer Distribution\"},\n",
    "#             ),\n",
    "#             \"Fluence\": ([\"x\", \"y\", \"z\", \"time\"], test[\"fluence\"]),\n",
    "#         },\n",
    "#         coords={\n",
    "#             \"time\": (\n",
    "#                 [\"time\"],\n",
    "#                 (np.arange(ntof) + 0.5) * dt,\n",
    "#                 {\"units\": \"ps\"}\n",
    "#             ),\n",
    "#         },\n",
    "#     )\n",
    "# test"
   ]
  },
  {
   "cell_type": "code",
   "execution_count": null,
   "metadata": {},
   "outputs": [],
   "source": [
    "# tf = test[\"Fluence\"].isel(z=100).sum(dim=\"time\")\n",
    "# tf.plot.pcolormesh(norm=lognorm(tf))"
   ]
  },
  {
   "cell_type": "code",
   "execution_count": null,
   "metadata": {},
   "outputs": [],
   "source": [
    "# tf = test[\"Fluence\"].isel(x=slice(0, 12), y=slice(89, 111), z=100).isel(time=2)\n",
    "# tf.plot.pcolormesh(norm=lognorm(tf))"
   ]
  },
  {
   "cell_type": "code",
   "execution_count": null,
   "metadata": {},
   "outputs": [],
   "source": [
    "# time_animate(test[\"Fluence\"].isel(z=100))"
   ]
  },
  {
   "cell_type": "code",
   "execution_count": null,
   "metadata": {},
   "outputs": [],
   "source": [
    "ndet = 80\n",
    "det_area = 10**2 / 2\n",
    "rhos = np.sqrt(det_area / np.pi * (1 + np.arange(ndet)))\n",
    "rhos"
   ]
  },
  {
   "cell_type": "code",
   "execution_count": null,
   "metadata": {},
   "outputs": [],
   "source": [
    "spec = Specification(\n",
    "    nphoton=100,\n",
    "    lifetime_max=5000,\n",
    "    dt=100,\n",
    "    lightspeed=0.2998,\n",
    "    freq=110e-6,\n",
    ")\n",
    "source = Pencil(\n",
    "    # position=Vector(100, 100, 0),\n",
    "    position=Vector(0, 0, 0),\n",
    "    direction=Vector(0, 0, 1)\n",
    ")\n",
    "n_media = 1.4\n",
    "n_ext = n_media  # 1\n",
    "states = [\n",
    "    State(mua=0, mus=0, g=1, n=n_ext),\n",
    "    State(mua=3e-2, mus=10, g=0.9, n=n_media),\n",
    "    State(mua=2e-2, mus=12, g=0.9, n=n_media),\n",
    "]\n",
    "state = State(*zip(*(tuple(s.__dict__.values()) for s in states[1:])))"
   ]
  },
  {
   "cell_type": "code",
   "execution_count": null,
   "metadata": {},
   "outputs": [],
   "source": [
    "def voxel(depth: int, voxel_dim: Tuple[Real, Real, Real], media_dim: Tuple[int, int, int]) -> Tuple[np.ndarray, Geometry]:\n",
    "    source.position=Vector(voxel_dim.x * media_dim.x / 2, voxel_dim.y * media_dim.y / 2, 0)\n",
    "    media = np.ones(media_dim, np.uint8)\n",
    "    media[:, :, depth:] = 2\n",
    "    geom = VoxelGeometry(voxel_dim=voxel_dim, media_dim=media_dim)\n",
    "    return media, geom\n",
    "\n",
    "def layered_voxel(depth: Real, voxel_dim: Tuple[Real, Real, Real], media_dim: Tuple[int, int, int]) -> Tuple[np.ndarray, Geometry]:\n",
    "    source.position=Vector(voxel_dim.x * media_dim.x / 2, voxel_dim.y * media_dim.y / 2, 0)\n",
    "    media = np.array([0, 1, 2], dtype=np.uint8)\n",
    "    geom = VoxelGeometry(voxel_dim=voxel_dim, media_dim=media_dim)\n",
    "    geom = LayeredGeometry(inner=geom, layers=(0, depth))\n",
    "    return media, geom\n",
    "\n",
    "def axial(depth: int, voxel_dim: Tuple[Real, Real], media_dim: Tuple[int, int]) -> Tuple[np.ndarray, Geometry]:\n",
    "    source.position=Vector(0, 0, 0)\n",
    "    media = np.ones(media_dim, np.uint8)\n",
    "    media[:, depth:] = 2\n",
    "    geom = AxialSymetricGeometry(voxel_dim=voxel_dim, media_dim=media_dim)\n",
    "    return media, geom\n",
    "\n",
    "def layered_axial(depth: Real, voxel_dim: Tuple[Real, Real], media_dim: Tuple[int, int]) -> Tuple[np.ndarray, Geometry]:\n",
    "    source.position=Vector(0, 0, 0)\n",
    "    media = np.array([0, 1, 2], dtype=np.uint8)\n",
    "    geom = AxialSymetricGeometry(voxel_dim=voxel_dim, media_dim=media_dim)\n",
    "    geom = LayeredGeometry(inner=geom, layers=(0, depth))\n",
    "    return media, geom\n",
    "\n",
    "def layered_free_space(depth: Real) -> Tuple[np.ndarray, Geometry]:\n",
    "    source.position=Vector(0, 0, 0)\n",
    "    media = np.array([0, 1, 2], dtype=np.uint8)\n",
    "    geom = FreeSpaceGeometry()\n",
    "    geom = LayeredGeometry(inner=geom, layers=(0, depth))\n",
    "    return media, geom"
   ]
  },
  {
   "cell_type": "code",
   "execution_count": null,
   "metadata": {},
   "outputs": [],
   "source": [
    "# media, geom = voxel(depth=6, voxel_dim=(1.0, 1.0, 1.0), media_dim=(200, 200, 200))\n",
    "# media, geom = layered_voxel(depth=6.5, voxel_dim=(1.0, 1.0, 1.0), media_dim=(200, 200, 200))\n",
    "# media, geom = axial(depth=6, voxel_dim=(1.0, 1.0), media_dim=(200, 200))\n",
    "# media, geom = layered_axial(depth=6.5, voxel_dim=(1.0, 1.0), media_dim=(200, 200))\n",
    "# media, geom = layered_free_space(depth=6.5)"
   ]
  },
  {
   "cell_type": "code",
   "execution_count": null,
   "metadata": {},
   "outputs": [],
   "source": [
    "# media, geom = axial(depth=60, voxel_dim=(0.1, 0.1), media_dim=(1000, 1000))\n",
    "media, geom = layered_axial(depth=6.5, voxel_dim=(0.1, 0.1), media_dim=(1000, 1000))"
   ]
  },
  {
   "cell_type": "code",
   "execution_count": null,
   "metadata": {},
   "outputs": [],
   "source": [
    "res = monte_carlo(\n",
    "    spec,\n",
    "    source=source,\n",
    "    states=states,\n",
    "    detectors=[\n",
    "        Detector(position=Vector(source.position.x, source.position.y, 0), radius=r) for r in rhos\n",
    "    ],\n",
    "    geom=geom,\n",
    "    media=media,\n",
    ")\n",
    "for k, v in res.data_vars.items():\n",
    "    v.data = cu.asnumpy(v.data)\n",
    "res.coords[\"detector\"] = rhos\n",
    "res.coords[\"detector\"].attrs[\"units\"] = \"mm\"\n",
    "for (dim, dv) in zip(res[\"Fluence\"].dims[:-1], getattr(getattr(geom, \"inner\", geom), 'voxel_dim', [])):\n",
    "    res.coords[dim] = res.coords[dim] * dv\n",
    "    res.coords[dim].attrs[\"units\"] = \"mm\"\n",
    "res.coords[\"time\"].attrs[\"units\"] = \"ps\"\n",
    "res"
   ]
  },
  {
   "cell_type": "code",
   "execution_count": null,
   "metadata": {},
   "outputs": [],
   "source": [
    "v = spec.lightspeed / n_media\n",
    "omega = 2 * np.pi * spec.freq\n",
    "pathLen = abs(res[\"PhiPhase\"]) * v / omega\n",
    "res[\"pathLen\"] = pathLen * res[\"PhiDist\"].sum(dim=\"time\")\n",
    "res[\"pathLen\"].attrs[\"units\"] = \"mm\"\n",
    "res[\"pathLen\"].attrs[\"long_name\"] = \"Φ-Weighted Path Length Distribution\""
   ]
  },
  {
   "cell_type": "code",
   "execution_count": null,
   "metadata": {},
   "outputs": [],
   "source": [
    "fig, axs = plt.subplots(2, 2, figsize=(8, 8))\n",
    "axs = axs.flat\n",
    "res[\"Phi\"].sum(dim=\"time\").plot(ax=axs[0], yscale='log')\n",
    "res[\"Photons\"].sum(dim=\"time\").plot(ax=axs[1], yscale='log', ylim=(1, None))\n",
    "res[\"PhiPhase\"].plot(ax=axs[2])\n",
    "res[\"pathLen\"].plot.line(ax=axs[3], x='detector')\n",
    "fig.tight_layout()\n",
    "# fig.savefig(\"detected.svg\")"
   ]
  },
  {
   "cell_type": "code",
   "execution_count": null,
   "metadata": {},
   "outputs": [],
   "source": [
    "fig, (ax1, ax2) = plt.subplots(1, 2, figsize=(8, 4))\n",
    "res[\"Phi\"].plot(ax=ax1, norm=lognorm(res[\"Phi\"]))\n",
    "res[\"Photons\"].plot(ax=ax2, norm=lognorm(res[\"Photons\"]))\n",
    "fig.tight_layout();"
   ]
  },
  {
   "cell_type": "code",
   "execution_count": null,
   "metadata": {},
   "outputs": [],
   "source": [
    "res[\"PhiDist\"].plot.pcolormesh(norm=lognorm(res[\"PhiDist\"]), col='layer')"
   ]
  },
  {
   "cell_type": "code",
   "execution_count": null,
   "metadata": {},
   "outputs": [],
   "source": [
    "if res[\"Fluence\"].ndim > 3:\n",
    "    fluenceTimeSlice = res[\"Fluence\"].isel(y=100)\n",
    "else:\n",
    "    fluenceTimeSlice = res[\"Fluence\"]"
   ]
  },
  {
   "cell_type": "code",
   "execution_count": null,
   "metadata": {},
   "outputs": [],
   "source": [
    "ssflu = fluenceTimeSlice.sum(dim=\"time\")\n",
    "ssflu.plot(norm=lognorm(ssflu))"
   ]
  },
  {
   "cell_type": "code",
   "execution_count": null,
   "metadata": {},
   "outputs": [],
   "source": [
    "# ssflu2 = fluenceTimeSlice[90:110, 0:20].sum(dim=\"time\")\n",
    "ssflu2 = fluenceTimeSlice[:20, 0:20].sum(dim=\"time\")\n",
    "ssflu2.plot(norm=lognorm(ssflu2))"
   ]
  },
  {
   "cell_type": "code",
   "execution_count": null,
   "metadata": {},
   "outputs": [],
   "source": [
    "# fluenceTimeSlice[90:110, 0:20].isel(time=1).plot()\n",
    "fluenceTimeSlice[:20, 0:20].isel(time=1).plot()"
   ]
  },
  {
   "cell_type": "code",
   "execution_count": null,
   "metadata": {},
   "outputs": [],
   "source": [
    "ani = time_animate(fluenceTimeSlice)\n",
    "ani"
   ]
  },
  {
   "cell_type": "code",
   "execution_count": null,
   "metadata": {},
   "outputs": [],
   "source": []
  }
 ]
}
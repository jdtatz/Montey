{
 "metadata": {
  "language_info": {
   "codemirror_mode": {
    "name": "ipython",
    "version": 3
   },
   "file_extension": ".py",
   "mimetype": "text/x-python",
   "name": "python",
   "nbconvert_exporter": "python",
   "pygments_lexer": "ipython3",
   "version": "3.8.6-final"
  },
  "orig_nbformat": 2,
  "kernelspec": {
   "name": "python3",
   "display_name": "Python 3",
   "language": "python"
  }
 },
 "nbformat": 4,
 "nbformat_minor": 2,
 "cells": [
  {
   "cell_type": "code",
   "execution_count": null,
   "metadata": {},
   "outputs": [],
   "source": [
    "import numpy as np\n",
    "import cupy as cu\n",
    "import xarray as xr\n",
    "import matplotlib.pyplot as plt\n",
    "import matplotlib.colors as colors\n",
    "from matplotlib.animation import FuncAnimation\n",
    "from montey import *"
   ]
  },
  {
   "cell_type": "code",
   "execution_count": null,
   "metadata": {},
   "outputs": [],
   "source": [
    "from IPython.display import set_matplotlib_formats\n",
    "set_matplotlib_formats('retina')\n",
    "plt.rcParams[\"animation.html\"] = \"jshtml\""
   ]
  },
  {
   "cell_type": "code",
   "execution_count": null,
   "metadata": {},
   "outputs": [],
   "source": [
    "def lognorm(arr):\n",
    "    return colors.LogNorm(vmin=float(np.nanmin(np.where(arr > 0, arr, np.nan))), vmax=float(np.max(arr)))"
   ]
  },
  {
   "cell_type": "code",
   "execution_count": null,
   "metadata": {},
   "outputs": [],
   "source": [
    "def time_animate(array, **plot_kwargs):\n",
    "    fig, ax = plt.subplots(figsize=(12, 8), dpi=144)\n",
    "    snorm = lognorm(array)\n",
    "    ntof = len(array.coords[\"time\"])\n",
    "\n",
    "    mat = ax.pcolormesh(array.isel(time=0).values, norm=snorm, animated=True, **plot_kwargs)\n",
    "    clb = fig.colorbar(mat)\n",
    "\n",
    "    def animate(i):\n",
    "        mat.set_array(array.isel(time=i).values)\n",
    "        return mat,\n",
    "\n",
    "    ani = FuncAnimation(fig, animate, frames=ntof, interval=100, blit=True)\n",
    "    plt.close(fig)\n",
    "    return ani"
   ]
  },
  {
   "cell_type": "code",
   "execution_count": null,
   "metadata": {},
   "outputs": [],
   "source": [
    "# test = np.load(\"test.npz\")\n",
    "# ntof = test[\"photon_counter\"].shape[-1]\n",
    "# dt = 100\n",
    "# test = xr.Dataset(\n",
    "#         {\n",
    "#             \"Photons\": (\n",
    "#                 [\"detector\", \"time\"],\n",
    "#                 test[\"photon_counter\"],\n",
    "#             ),\n",
    "#             \"Phi\": (\n",
    "#                 [\"detector\", \"time\"],\n",
    "#                 test[\"phi_td\"],\n",
    "#                 {\"long_name\": \"Φ\"},\n",
    "#             ),\n",
    "#             \"PhiPhase\": (\n",
    "#                 [\"detector\"],\n",
    "#                 test[\"phi_phase\"],\n",
    "#                 {\"units\": \"rad\", \"long_name\": \"Φ Phase\"},\n",
    "#             ),\n",
    "#             \"PhiDist\": (\n",
    "#                 [\"detector\", \"time\", \"layer\"],\n",
    "#                 test[\"phi_dist\"],\n",
    "#                 {\"long_name\": \"Φ Distribution\"},\n",
    "#             ),\n",
    "#             \"MomDist\": (\n",
    "#                 [\"detector\", \"time\", \"layer\"],\n",
    "#                 test[\"mom_dist\"],\n",
    "#                 {\"long_name\": \"Φ-Weighted Momentum Transfer Distribution\"},\n",
    "#             ),\n",
    "#             \"Fluence\": ([\"x\", \"y\", \"z\", \"time\"], test[\"fluence\"]),\n",
    "#         },\n",
    "#         coords={\n",
    "#             \"time\": (\n",
    "#                 [\"time\"],\n",
    "#                 (np.arange(ntof) + 0.5) * dt,\n",
    "#                 {\"units\": \"ps\"}\n",
    "#             ),\n",
    "#         },\n",
    "#     )\n",
    "# test"
   ]
  },
  {
   "cell_type": "code",
   "execution_count": null,
   "metadata": {},
   "outputs": [],
   "source": [
    "# tf = test[\"Fluence\"].isel(z=100).sum(dim=\"time\")\n",
    "# tf.plot.pcolormesh(norm=lognorm(tf))"
   ]
  },
  {
   "cell_type": "code",
   "execution_count": null,
   "metadata": {},
   "outputs": [],
   "source": [
    "# tf = test[\"Fluence\"].isel(x=slice(0, 12), y=slice(89, 111), z=100).isel(time=2)\n",
    "# tf.plot.pcolormesh(norm=lognorm(tf))"
   ]
  },
  {
   "cell_type": "code",
   "execution_count": null,
   "metadata": {},
   "outputs": [],
   "source": [
    "# time_animate(test[\"Fluence\"].isel(z=100))"
   ]
  },
  {
   "cell_type": "code",
   "execution_count": null,
   "metadata": {},
   "outputs": [],
   "source": [
    "ndet = 80\n",
    "det_area = 10**2 / 2\n",
    "rhos = np.sqrt(det_area / np.pi * (1 + np.arange(ndet)))\n",
    "rhos"
   ]
  },
  {
   "cell_type": "code",
   "execution_count": null,
   "metadata": {},
   "outputs": [],
   "source": [
    "spec = Specification(\n",
    "    nphoton=100,\n",
    "    lifetime_max=5000,\n",
    "    dt=100,\n",
    "    lightspeed=0.2998,\n",
    "    freq=110e-6,\n",
    ")\n",
    "source = Pencil(\n",
    "    # position=Vector(100, 100, 0),\n",
    "    position=Vector(0, 0, 0),\n",
    "    direction=Vector(0, 0, 1)\n",
    ")\n",
    "n_media = 1.4\n",
    "n_ext = n_media  # 1\n",
    "states = [\n",
    "    State(mua=0, mus=0, g=1, n=n_ext),\n",
    "    State(mua=3e-2, mus=10, g=0.9, n=n_media),\n",
    "    State(mua=2e-2, mus=12, g=0.9, n=n_media),\n",
    "]\n",
    "state = State(*zip(*(tuple(s.__dict__.values()) for s in states[1:])))\n",
    "\n",
    "# media = np.ones((200, 200, 200), np.uint8)\n",
    "# media[6:] = 2\n",
    "# geom = VoxelGeometry(voxel_dim=(1.0, 1.0, 1.0), media_dim=media.shape)\n",
    "media = np.array([0, 1, 2], dtype=np.uint8)\n",
    "# geom = VoxelGeometry(voxel_dim=(1.0, 1.0, 1.0), media_dim=(200, 200, 200))\n",
    "geom = AxialSymetricGeometry(voxel_dim=(0.1, 0.1), media_dim=(1000, 1000))\n",
    "geom = LayeredGeometry(inner=geom, layers=(0, 6.5))"
   ]
  },
  {
   "cell_type": "code",
   "execution_count": null,
   "metadata": {},
   "outputs": [],
   "source": [
    "res = monte_carlo(\n",
    "    spec,\n",
    "    source=source,\n",
    "    states=states,\n",
    "    detectors=[\n",
    "        Detector(position=Vector(source.position.x, source.position.y, 0), radius=r) for r in rhos\n",
    "    ],\n",
    "    geom=geom,\n",
    "    media=media,\n",
    ")\n",
    "for k, v in res.data_vars.items():\n",
    "    v.data = cu.asnumpy(v.data)\n",
    "res.coords[\"detector\"] = rhos\n",
    "res.coords[\"detector\"].attrs[\"units\"] = \"mm\"\n",
    "for (dim, dv) in zip(res[\"Fluence\"].dims[:-1], geom.inner.voxel_dim):\n",
    "    res.coords[dim] = res.coords[dim] * dv\n",
    "    res.coords[dim].attrs[\"units\"] = \"mm\"\n",
    "res.coords[\"time\"].attrs[\"units\"] = \"ps\"\n",
    "res"
   ]
  },
  {
   "cell_type": "code",
   "execution_count": null,
   "metadata": {},
   "outputs": [],
   "source": [
    "v = spec.lightspeed / n_media\n",
    "omega = 2 * np.pi * spec.freq\n",
    "pathLen = abs(res[\"PhiPhase\"]) * v / omega\n",
    "res[\"pathLen\"] = pathLen * res[\"PhiDist\"].sum(dim=\"time\")\n",
    "res[\"pathLen\"].attrs[\"units\"] = \"mm\"\n",
    "res[\"pathLen\"].attrs[\"long_name\"] = \"Φ-Weighted Path Length Distribution\""
   ]
  },
  {
   "cell_type": "code",
   "execution_count": null,
   "metadata": {},
   "outputs": [],
   "source": [
    "fig, axs = plt.subplots(2, 2, figsize=(8, 8))\n",
    "axs = axs.flat\n",
    "res[\"Phi\"].sum(dim=\"time\").plot(ax=axs[0], yscale='log')\n",
    "res[\"Photons\"].sum(dim=\"time\").plot(ax=axs[1], yscale='log', ylim=(1, None))\n",
    "res[\"PhiPhase\"].plot(ax=axs[2])\n",
    "res[\"pathLen\"].plot.line(ax=axs[3], x='detector')\n",
    "fig.tight_layout();"
   ]
  },
  {
   "cell_type": "code",
   "execution_count": null,
   "metadata": {},
   "outputs": [],
   "source": [
    "if res[\"Fluence\"].ndim > 3:\n",
    "    fluenceTimeSlice = res[\"Fluence\"].isel(y=100)\n",
    "else:\n",
    "    fluenceTimeSlice = res[\"Fluence\"]"
   ]
  },
  {
   "cell_type": "code",
   "execution_count": null,
   "metadata": {},
   "outputs": [],
   "source": [
    "ssflu = fluenceTimeSlice.sum(dim=\"time\")\n",
    "ssflu.plot(norm=lognorm(ssflu))"
   ]
  },
  {
   "cell_type": "code",
   "execution_count": null,
   "metadata": {},
   "outputs": [],
   "source": [
    "# ssflu2 = fluenceTimeSlice[90:110, 0:20].sum(dim=\"time\")\n",
    "ssflu2 = fluenceTimeSlice[:20, 0:20].sum(dim=\"time\")\n",
    "ssflu2.plot(norm=lognorm(ssflu2))"
   ]
  },
  {
   "cell_type": "code",
   "execution_count": null,
   "metadata": {},
   "outputs": [],
   "source": [
    "# fluenceTimeSlice[90:110, 0:20].isel(time=1).plot()\n",
    "fluenceTimeSlice[:20, 0:20].isel(time=1).plot()"
   ]
  },
  {
   "cell_type": "code",
   "execution_count": null,
   "metadata": {},
   "outputs": [],
   "source": [
    "res[\"Phi\"].plot(norm=lognorm(res[\"Phi\"]))"
   ]
  },
  {
   "cell_type": "code",
   "execution_count": null,
   "metadata": {},
   "outputs": [],
   "source": [
    "res[\"Photons\"].plot(norm=lognorm(res[\"Photons\"]))"
   ]
  },
  {
   "cell_type": "code",
   "execution_count": null,
   "metadata": {},
   "outputs": [],
   "source": [
    "res[\"PhiDist\"].plot.pcolormesh(norm=lognorm(res[\"PhiDist\"]), col='layer')"
   ]
  },
  {
   "cell_type": "code",
   "execution_count": null,
   "metadata": {},
   "outputs": [],
   "source": [
    "time_animate(fluenceTimeSlice)"
   ]
  },
  {
   "cell_type": "code",
   "execution_count": null,
   "metadata": {},
   "outputs": [],
   "source": []
  }
 ]
}